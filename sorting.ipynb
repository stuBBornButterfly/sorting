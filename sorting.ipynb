{
 "cells": [
  {
   "cell_type": "code",
   "execution_count": null,
   "metadata": {
    "vscode": {
     "languageId": "plaintext"
    }
   },
   "outputs": [],
   "source": [
    "#BUBBLESORT---->COMPARES WITH THE ADJACENT AS LONG AS ITS SORTED , O(n^2)\n",
    "\n",
    "\n",
    "def bubblesort(arr):\n",
    "     n = len(arr)\n",
    "     for i in range(n-1):\n",
    "          for j in range(n-i-1):\n",
    "               if arr[j]> arr[j+1]:\n",
    "                    arr[j],arr[j+1] = arr[j+1] , arr[j]\n",
    "     return(arr)\n",
    "arr = [17,3,0,2,71]\n",
    "print(bubblesort(arr))"
   ]
  },
  {
   "cell_type": "code",
   "execution_count": null,
   "metadata": {
    "vscode": {
     "languageId": "plaintext"
    }
   },
   "outputs": [],
   "source": [
    "#SELECTIONSORT----->finds the smallest element in the array and swaps it with the first element.O(n^2)\n",
    "\n",
    "def selectionsort(arr):\n",
    "     n = len(arr)\n",
    "     for i in range(n):\n",
    "          min_value = i\n",
    "          for j in range(i+1,n):\n",
    "               if arr[j] < arr[min_value]:\n",
    "                    min_value = j\n",
    "          arr[i],arr[min_value] = arr[min_value],arr[i]\n",
    "     return arr\n",
    "\n",
    "arr = [17,3,0,2,71]\n",
    "print(selectionsort(arr))\n"
   ]
  },
  {
   "cell_type": "code",
   "execution_count": null,
   "metadata": {
    "vscode": {
     "languageId": "plaintext"
    }
   },
   "outputs": [],
   "source": [
    "#insertionsort---->Start from the second element.Compare it with the ones before it.Shift larger elements and insert the new one in the correct place..O(n^2)\n",
    "\n",
    "def insertionsort(arr):\n",
    "     for i in range(1,len(arr)):\n",
    "          insert_value = arr[i]\n",
    "          j = i-1\n",
    "          while j>=0 and arr[j] > insert_value:\n",
    "               arr[j+1] = arr[j]\n",
    "               j -= 1\n",
    "          arr[j+1] = insert_value\n",
    "     return arr\n",
    " arr = [17,3,0,2,71]\n",
    "print(insertionsort(arr))    "
   ]
  },
  {
   "cell_type": "code",
   "execution_count": null,
   "metadata": {
    "vscode": {
     "languageId": "plaintext"
    }
   },
   "outputs": [],
   "source": [
    "#MERGESORT--->Split the array into two halves.Recursively sort each half.Merge the sorted halves together.\n",
    "\n",
    "def mergesort(arr):\n",
    "     mid = len(arr)//2\n",
    "     left = mergesort(arr[:mid])\n",
    "     right = mergesort(arr[mid:])\n",
    "     sorted_arr = []\n",
    "     i,j=0\n",
    "     if len(arr) <=1:\n",
    "          return arr\n",
    "     while i <len(left) and j <len(right):\n",
    "          if left[i] < right[j]:\n",
    "               sorted_arr.append(left[i])\n",
    "               i +=1\n",
    "          else:\n",
    "               sorted_arr.append(right[j])\n",
    "               j +=1\n",
    "               \n",
    "     sorted_arr.extend(left[i:])\n",
    "     sorted_arr.extend(right[j:])\n",
    "     return sorted_arr\n",
    "\n",
    "arr = [17,3,0,2,71]\n",
    "print(mergesort(arr)) "
   ]
  },
  {
   "cell_type": "code",
   "execution_count": null,
   "metadata": {
    "vscode": {
     "languageId": "plaintext"
    }
   },
   "outputs": [],
   "source": [
    "#QUICKSOET---->Pick a pivot element.Put smaller elements to the left, larger elements to the right.Recursively sort both sides.\n",
    "\n",
    "def quicksort(arr):\n",
    "     first_value = arr[0]\n",
    "     left_value = []\n",
    "     right_value = []\n",
    "     same_value = []\n",
    "     if len(arr) <=1:\n",
    "          return arr\n",
    "     for i in arr:\n",
    "          if i < first_value:\n",
    "               left_value.append(i)\n",
    "          elif i > first_value:\n",
    "               right_value.append(i)\n",
    "          else:\n",
    "               same_value.append(i)\n",
    "     return quicksort(left_value)+same_value+quicksort(right_value)\n",
    "arr = [17,3,0,2,71]\n",
    "print(quicksort(arr)) "
   ]
  },
  {
   "cell_type": "code",
   "execution_count": null,
   "metadata": {
    "vscode": {
     "languageId": "plaintext"
    }
   },
   "outputs": [],
   "source": []
  }
 ],
 "metadata": {
  "language_info": {
   "name": "python"
  }
 },
 "nbformat": 4,
 "nbformat_minor": 2
}
